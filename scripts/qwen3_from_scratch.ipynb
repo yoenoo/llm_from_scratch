{
 "cells": [
  {
   "cell_type": "code",
   "execution_count": 1,
   "id": "b3a169c1",
   "metadata": {},
   "outputs": [],
   "source": [
    "import torch \n",
    "import torch.nn as nn \n",
    "from einops import einsum, rearrange\n",
    "torch.manual_seed(123);"
   ]
  },
  {
   "cell_type": "code",
   "execution_count": 2,
   "id": "13ae2da8",
   "metadata": {},
   "outputs": [],
   "source": [
    "class FeedForward(nn.Module):\n",
    "    def __init__(self, cfg):\n",
    "        super().__init__()\n",
    "        self.fc1 = nn.Linear(cfg[\"d_model\"], cfg[\"d_ff\"], bias=False)\n",
    "        self.fc2 = nn.Linear(cfg[\"d_model\"], cfg[\"d_ff\"], bias=False)\n",
    "        self.fc3 = nn.Linear(cfg[\"d_ff\"], cfg[\"d_model\"], bias=False)\n",
    "\n",
    "    def forward(self, x):\n",
    "        return self.fc3(nn.functional.silu(self.fc1(x)) * self.fc2(x))"
   ]
  },
  {
   "cell_type": "code",
   "execution_count": 3,
   "id": "fc2f8f21",
   "metadata": {},
   "outputs": [],
   "source": [
    "class RMSNorm(nn.Module):\n",
    "    def __init__(self, d_model, eps: float = 1e-6, bias=False):\n",
    "        super().__init__()\n",
    "        self.eps = eps \n",
    "        self.scale = nn.Parameter(torch.ones(d_model))\n",
    "        self.shift = nn.Parameter(torch.zeros(d_model)) if bias else None\n",
    "    \n",
    "    def forward(self, x):\n",
    "        input_dtype = x.dtype \n",
    "        variance = x.pow(2).mean(dim=-1, keepdim=True)\n",
    "        x_norm = x * torch.rsqrt(variance + self.eps)\n",
    "        x_norm = x_norm * self.scale        \n",
    "\n",
    "        if self.shift is not None:\n",
    "            x_norm += self.shift\n",
    "\n",
    "        return x_norm.to(input_dtype)"
   ]
  },
  {
   "cell_type": "code",
   "execution_count": 4,
   "id": "d4a7fb5b",
   "metadata": {},
   "outputs": [],
   "source": [
    "class RoPE(nn.Module):\n",
    "    def __init__(self, head_dim: int, ctx_len: int, theta_base: int = 10_000):\n",
    "        super().__init__()\n",
    "        assert head_dim % 2 == 0, \"head_dim must be even!\"\n",
    "\n",
    "        self.theta_base = theta_base\n",
    "        self.head_dim = head_dim\n",
    "        self.ctx_len = ctx_len \n",
    "\n",
    "        self._compute_rope()\n",
    "\n",
    "    def _compute_rope(self):\n",
    "        inv_freq = 1.0 / (self.theta_base ** torch.arange(0, self.head_dim, 2) / self.head_dim)\n",
    "        pos = torch.arange(self.ctx_len)\n",
    "        angles = einsum(pos, inv_freq, \"n,d -> n d\") # (batch_size, head_dim // 2)\n",
    "        angles = torch.cat((angles, angles), dim=1) # (batch_size, head_dim)\n",
    "\n",
    "        self.register_buffer(\"cos\", angles.cos(), persistent=False)\n",
    "        self.register_buffer(\"sin\", angles.sin(), persistent=False)\n",
    "\n",
    "    def _rotate_half(self, x):\n",
    "        x1 = x[...,:self.head_dim//2] # (batch_size, n_heads, seq_len, head_dim // 2)\n",
    "        x2 = x[...,self.head_dim//2:] # (batch_size, n_heads, seq_len, head_dim // 2)\n",
    "        return torch.cat((-x2, x1), dim=-1)\n",
    "\n",
    "    def forward(self, x):\n",
    "        cos = self.cos[None,None,:,:]\n",
    "        sin = self.sin[None,None,:,:]\n",
    "        return x * cos + self._rotate_half(x) * sin"
   ]
  },
  {
   "cell_type": "code",
   "execution_count": 5,
   "id": "18b7e331",
   "metadata": {},
   "outputs": [],
   "source": [
    "class GroupedQueryAttention(nn.Module):\n",
    "    def __init__(self, d_in, d_out, n_heads, n_kv_groups, ctx_len):\n",
    "        super().__init__()\n",
    "        assert n_heads % n_kv_groups == 0, \"n_heads must be divisible by n_kv_groups!\"\n",
    "        assert d_out % n_heads == 0, \"d_out must be divisible by n_heads!\"\n",
    "\n",
    "        self.head_dim = d_out // n_heads\n",
    "        self.group_size = n_heads // n_kv_groups\n",
    "\n",
    "        self.W_q = nn.Linear(d_in, d_out, bias=False)\n",
    "        self.W_k = nn.Linear(d_in, n_kv_groups * self.head_dim, bias=False)\n",
    "        self.W_v = nn.Linear(d_in, n_kv_groups * self.head_dim, bias=False)\n",
    "        self.out_proj = nn.Linear(d_out, d_out, bias=False)\n",
    "\n",
    "        self.q_norm = RMSNorm(self.head_dim, eps=1e-6)\n",
    "        self.k_norm = RMSNorm(self.head_dim, eps=1e-6)\n",
    "\n",
    "        self.rope = RoPE(self.head_dim, ctx_len)\n",
    "\n",
    "        mask = torch.triu(torch.ones(ctx_len, ctx_len), diagonal=1)\n",
    "        self.register_buffer(\"mask\", mask)\n",
    "\n",
    "    def forward(self, x):\n",
    "        batch_size, seq_len, d_in = x.shape\n",
    "\n",
    "        queries = self.W_q(x) # (batch_size, seq_len, d_out)\n",
    "        keys    = self.W_k(x) # (batch_size, seq_len, n_kv_groups * head_dim)\n",
    "        values  = self.W_v(x) # (batch_size, seq_len, n_kv_groups * head_dim)\n",
    "\n",
    "        queries = rearrange(queries, \"b s (n_heads head_dim) -> b n_heads s head_dim\", head_dim=self.head_dim)\n",
    "        keys    = rearrange(keys, \"b s (n_kv_groups head_dim) -> b n_kv_groups s head_dim\", head_dim=self.head_dim)\n",
    "        values  = rearrange(values, \"b s (n_kv_groups head_dim) -> b n_kv_groups s head_dim\", head_dim=self.head_dim)\n",
    "\n",
    "        queries = self.q_norm(queries)\n",
    "        keys    = self.k_norm(keys)\n",
    "\n",
    "        queries = self.rope(queries)\n",
    "        keys    = self.rope(keys)\n",
    "\n",
    "        keys = keys.repeat_interleave(self.group_size, dim=1) # (batch_size, n_heads, seq_len, head_dim)\n",
    "        values = values.repeat_interleave(self.group_size, dim=1) # (batch_size, n_heads, seq_lne, head_dim)\n",
    "\n",
    "        attn_scores = einsum(queries, keys, \"... s1 head_dim, ... s2 head_dim -> ... s1 s2\")\n",
    "        attn_scores.masked_fill_(self.mask[:seq_len,:seq_len], -torch.inf)\n",
    "        attn_weights = torch.softmax(attn_scores / keys.shape[-1]**0.5, dim=-1)\n",
    "\n",
    "        context_vecs = einsum(attn_weights, values, \"... s1 s2, ... s2 head_dim -> ... s1 head_dim\")\n",
    "        context_vecs = rearrange(context_vecs, \"batch_size n_heads seq_len head_dim -> batch_size seq_len (n_heads head_dim)\")\n",
    "        context_vecs = self.out_proj(context_vecs)\n",
    "        return context_vecs\n"
   ]
  },
  {
   "cell_type": "code",
   "execution_count": 6,
   "id": "5dde8a78",
   "metadata": {},
   "outputs": [],
   "source": [
    "class TransformerBlock(nn.Module):\n",
    "    def __init__(self, cfg):\n",
    "        super().__init__()\n",
    "        self.attn = GroupedQueryAttention(\n",
    "            d_in=cfg[\"d_model\"],\n",
    "            d_out=cfg[\"d_model\"],\n",
    "            ctx_len=cfg[\"ctx_len\"],\n",
    "            n_heads=cfg[\"n_heads\"],\n",
    "            n_kv_groups=cfg[\"n_kv_groups\"]\n",
    "        )\n",
    "        self.ff = FeedForward(cfg)\n",
    "        self.norm1 = RMSNorm(cfg[\"d_model\"], eps=1e-6)\n",
    "        self.norm2 = RMSNorm(cfg[\"d_model\"], eps=1e-6)\n",
    "\n",
    "    def forward(self, x):\n",
    "        x = x + self.attn(self.norm1(x))\n",
    "        x = x + self.ff(self.norm2(x))\n",
    "        return x"
   ]
  },
  {
   "cell_type": "code",
   "execution_count": 7,
   "id": "069ce850",
   "metadata": {},
   "outputs": [],
   "source": [
    "class Qwen3Model(nn.Module):\n",
    "    def __init__(self, cfg):\n",
    "        super().__init__()\n",
    "\n",
    "        self.tok_emb = nn.Embedding(cfg[\"vocab_size\"], cfg[\"d_model\"])\n",
    "        self.transformer_blocks = nn.ModuleList(\n",
    "            [TransformerBlock(cfg) for _ in range(cfg[\"n_layers\"])]\n",
    "        )\n",
    "\n",
    "        self.final_norm = RMSNorm(cfg[\"d_model\"])\n",
    "        self.out_head = nn.Linear(cfg[\"d_model\"], cfg[\"vocab_size\"], bias=False)\n",
    "\n",
    "    def forward(self, in_idx):\n",
    "        x = self.tok_emb(in_idx)\n",
    "        for blk in self.transformer_blocks:\n",
    "            x = blk(x)\n",
    "\n",
    "        x = self.final_norm(x)\n",
    "        logits = self.out_head(x)\n",
    "        return logits"
   ]
  },
  {
   "cell_type": "code",
   "execution_count": null,
   "id": "84119ad9",
   "metadata": {},
   "outputs": [
    {
     "ename": "",
     "evalue": "",
     "output_type": "error",
     "traceback": [
      "\u001b[1;31mThe Kernel crashed while executing code in the current cell or a previous cell. \n",
      "\u001b[1;31mPlease review the code in the cell(s) to identify a possible cause of the failure. \n",
      "\u001b[1;31mClick <a href='https://aka.ms/vscodeJupyterKernelCrash'>here</a> for more info. \n",
      "\u001b[1;31mView Jupyter <a href='command:jupyter.viewOutput'>log</a> for further details."
     ]
    }
   ],
   "source": [
    "QWEN3_CONFIG = {\n",
    "    \"vocab_size\": 151_936,           # Vocabulary size\n",
    "    \"ctx_len\": 40_960,               # Context length that was used to train the model\n",
    "    \"d_model\": 1024,                 # Embedding dimension\n",
    "    \"n_heads\": 16,                   # Number of attention heads\n",
    "    \"n_layers\": 28,                  # Number of layers\n",
    "    \"d_ff\": 3072,                    # Size of the intermediate dimension in FeedForward\n",
    "    \"qk_norm\": True,                 # Whether to normalize queries and values in GQA\n",
    "    \"n_kv_groups\": 8,                # Key-Value groups for grouped-query attention\n",
    "    \"rope_base\": 1_000_000.0,        # The base in RoPE's \"theta\"\n",
    "    \"dtype\": torch.bfloat16,         # Lower-precision dtype to reduce memory usage\n",
    "}"
   ]
  },
  {
   "cell_type": "code",
   "execution_count": null,
   "id": "bcd212f7",
   "metadata": {},
   "outputs": [],
   "source": [
    "torch.manual_seed(123)\n",
    "model = Qwen3Model(QWEN3_CONFIG)"
   ]
  },
  {
   "cell_type": "code",
   "execution_count": null,
   "id": "695858fe",
   "metadata": {},
   "outputs": [],
   "source": []
  },
  {
   "cell_type": "code",
   "execution_count": null,
   "id": "e9410e0e",
   "metadata": {},
   "outputs": [],
   "source": [
    "model"
   ]
  },
  {
   "cell_type": "code",
   "execution_count": null,
   "id": "54cfb42e",
   "metadata": {},
   "outputs": [],
   "source": []
  }
 ],
 "metadata": {
  "kernelspec": {
   "display_name": "llm_from_scratch (3.10.17)",
   "language": "python",
   "name": "python3"
  },
  "language_info": {
   "codemirror_mode": {
    "name": "ipython",
    "version": 3
   },
   "file_extension": ".py",
   "mimetype": "text/x-python",
   "name": "python",
   "nbconvert_exporter": "python",
   "pygments_lexer": "ipython3",
   "version": "3.10.17"
  }
 },
 "nbformat": 4,
 "nbformat_minor": 5
}
