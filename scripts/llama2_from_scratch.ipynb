{
 "cells": [
  {
   "cell_type": "code",
   "execution_count": 2,
   "id": "acf98627",
   "metadata": {},
   "outputs": [],
   "source": [
    "import torch\n",
    "import torch.nn as nn \n",
    "from einops import einsum, rearrange\n",
    "torch.manual_seed(123);"
   ]
  },
  {
   "cell_type": "code",
   "execution_count": 3,
   "id": "ca09bfe5",
   "metadata": {},
   "outputs": [],
   "source": [
    "class RMSNorm(nn.Module):\n",
    "    def __init__(self, d_model: int, eps: float = 1e-5):\n",
    "        super().__init__()\n",
    "        self.eps = eps \n",
    "        self.scale = nn.Parameter(torch.ones(d_model)).float()\n",
    "\n",
    "    def forward(self, x):\n",
    "        var = x.pow(2).mean(dim=-1, keepdim=True)\n",
    "        x_norm = x * torch.rsqrt(var + self.eps)\n",
    "        return (x_norm * self.scale).to(dtype=x.dtype)"
   ]
  },
  {
   "cell_type": "code",
   "execution_count": 4,
   "id": "4c7c2506",
   "metadata": {},
   "outputs": [],
   "source": [
    "example_batch = torch.randn(2,3,4)\n",
    "\n",
    "rms_norm = RMSNorm(example_batch.shape[-1], eps=1e-5)\n",
    "rms_norm_pytorch = nn.RMSNorm(example_batch.shape[-1], eps=1e-5)\n",
    "\n",
    "assert torch.allclose(rms_norm(example_batch), rms_norm_pytorch(example_batch))"
   ]
  },
  {
   "cell_type": "code",
   "execution_count": 5,
   "id": "55afd1ca",
   "metadata": {},
   "outputs": [],
   "source": [
    "class SiLU(nn.Module):\n",
    "    def __init__(self):\n",
    "        super().__init__()\n",
    "\n",
    "    def forward(self, x):\n",
    "        return x * torch.sigmoid(x)"
   ]
  },
  {
   "cell_type": "code",
   "execution_count": 6,
   "id": "4ceede7b",
   "metadata": {},
   "outputs": [],
   "source": [
    "silu = SiLU()\n",
    "assert torch.allclose(silu(example_batch), nn.functional.silu(example_batch))"
   ]
  },
  {
   "cell_type": "code",
   "execution_count": 7,
   "id": "39037468",
   "metadata": {},
   "outputs": [],
   "source": [
    "class FeedForward(nn.Module):\n",
    "    def __init__(self, cfg): \n",
    "        super().__init__()\n",
    "        d_model = cfg[\"d_model\"]\n",
    "        d_ff = cfg[\"d_model\"] * 4 if \"hidden_dim\" not in cfg else cfg[\"hidden_dim\"]\n",
    "        self.fc1 = nn.Linear(d_model, d_ff, bias=False)\n",
    "        self.fc2 = nn.Linear(d_model, d_ff, bias=False)\n",
    "        self.fc3 = nn.Linear(d_ff, d_model, bias=False)\n",
    "        self.silu = SiLU()\n",
    "\n",
    "    def forward(self, x):\n",
    "        return self.fc3(self.silu(self.fc1(x)) * self.fc2(x))"
   ]
  },
  {
   "cell_type": "code",
   "execution_count": 8,
   "id": "39192c75",
   "metadata": {},
   "outputs": [],
   "source": [
    "class RoPE(nn.Module):\n",
    "    def __init__(self, head_dim: int, base: int = 10_000, ctx_len: int = 4096):\n",
    "        super().__init__()\n",
    "        self.base = base\n",
    "        self.head_dim = head_dim\n",
    "        self._compute_rope(ctx_len)\n",
    "\n",
    "    def _compute_rope(self, ctx_len):\n",
    "        inv_freq = 1.0 / (self.base ** torch.arange(0, self.head_dim, 2).float() / self.head_dim)\n",
    "        pos = torch.arange(ctx_len)\n",
    "        angles = einsum(pos, inv_freq, \"n,d->n d\") # (ctx_len, d//2)\n",
    "        angles = torch.cat((angles, angles), dim=1) # (ctx_len, d)\n",
    "\n",
    "        self.cos = angles.cos()\n",
    "        self.sin = angles.sin()\n",
    "\n",
    "    def _rotate_half(self, x):\n",
    "        x1 = x[...,:self.head_dim//2]\n",
    "        x2 = x[...,self.head_dim//2:]\n",
    "        return torch.cat((-x2, x1), dim=-1)\n",
    "\n",
    "    def forward(self, x):\n",
    "        \"\"\"\n",
    "        x (in MHSA): (batch_size, n_heads, seq_len, head_dim)\n",
    "        \"\"\"\n",
    "        _, _, seq_len, _ = x.shape\n",
    "        cos = self.cos[None,None,:seq_len,:]\n",
    "        sin = self.sin[None,None,:seq_len,:]\n",
    "        return x * cos + self._rotate_half(x) * sin"
   ]
  },
  {
   "cell_type": "code",
   "execution_count": 9,
   "id": "4325d5fe",
   "metadata": {},
   "outputs": [],
   "source": [
    "class MultiHeadAttention(nn.Module):\n",
    "    def __init__(self, d_in, d_out, ctx_len, n_heads):\n",
    "        super().__init__()\n",
    "\n",
    "        self.W_query = nn.Linear(d_in, d_out, bias=False)\n",
    "        self.W_key   = nn.Linear(d_in, d_out, bias=False)\n",
    "        self.W_value = nn.Linear(d_in, d_out, bias=False)\n",
    "        self.out_proj = nn.Linear(d_out, d_out, bias=False)\n",
    "\n",
    "        mask = torch.triu(torch.ones(ctx_len, ctx_len), diagonal=1)\n",
    "        self.register_buffer(\"mask\", mask)\n",
    "\n",
    "        self.n_heads = n_heads\n",
    "        head_dim = d_out // n_heads\n",
    "        self.rope = RoPE(head_dim, ctx_len=ctx_len)\n",
    "\n",
    "    def forward(self, x):\n",
    "        batch_size, seq_len, d_model = x.shape\n",
    "\n",
    "        keys = self.W_key(x)\n",
    "        queries = self.W_query(x)\n",
    "        values = self.W_value(x)\n",
    "\n",
    "        keys = rearrange(keys, \"batch_size seq_len (n_heads head_dim) -> batch_size n_heads seq_len head_dim\", n_heads=self.n_heads)\n",
    "        queries = rearrange(queries, \"batch_size seq_len (n_heads head_dim) -> batch_size n_heads seq_len head_dim\", n_heads=self.n_heads)\n",
    "        values = rearrange(values, \"batch_size seq_len (n_heads head_dim) -> batch_size n_heads seq_len head_dim\", n_heads=self.n_heads)\n",
    "\n",
    "        keys = self.rope(keys)\n",
    "        queries = self.rope(queries)\n",
    "\n",
    "        attn_scores = einsum(keys, queries, \"... s1 head_dim, ... s2 head_dim -> ... s1 s2\")\n",
    "        attn_scores.masked_fill_(self.mask.bool()[:seq_len,:seq_len], -torch.inf)\n",
    "        attn_weights = torch.softmax(attn_scores / keys.shape[-1]**0.5, dim=-1)\n",
    "        context_vec = einsum(attn_weights, values, \"... s1 s2, ... s2 head_dim -> ... s1 head_dim\")\n",
    "        context_vec = rearrange(context_vec, \"batch_size n_heads seq_len head_dim -> batch_size seq_len (n_heads head_dim)\")\n",
    "        context_vec = self.out_proj(context_vec)\n",
    "        return context_vec\n"
   ]
  },
  {
   "cell_type": "code",
   "execution_count": 10,
   "id": "4bb41623",
   "metadata": {},
   "outputs": [],
   "source": [
    "batch_size = 1\n",
    "context_len = 100\n",
    "max_context_len = 4096\n",
    "embed_dim = 128\n",
    "num_heads = 4\n",
    "\n",
    "\n",
    "example_batch = torch.randn((batch_size, context_len, embed_dim))\n",
    "\n",
    "mha = MultiHeadAttention(\n",
    "    d_in=embed_dim,\n",
    "    d_out=embed_dim,\n",
    "    ctx_len=max_context_len,\n",
    "    n_heads=num_heads\n",
    ")\n",
    "\n",
    "mha(example_batch)\n",
    "del mha"
   ]
  },
  {
   "cell_type": "code",
   "execution_count": 14,
   "id": "0720f3d2",
   "metadata": {},
   "outputs": [],
   "source": [
    "class TransformerBlock(nn.Module):\n",
    "    def __init__(self, cfg):\n",
    "        super().__init__()\n",
    "        self.mhsa = MultiHeadAttention(\n",
    "            d_in=cfg[\"d_model\"],\n",
    "            d_out=cfg[\"d_model\"],\n",
    "            ctx_len=cfg[\"context_length\"],\n",
    "            n_heads=cfg[\"n_heads\"],\n",
    "        )\n",
    "        self.ff = FeedForward(cfg)\n",
    "        self.norm1 = RMSNorm(cfg[\"d_model\"])\n",
    "        self.norm2 = RMSNorm(cfg[\"d_model\"])\n",
    "\n",
    "    def forward(self, x):\n",
    "        x = x + self.mhsa(self.norm1(x))\n",
    "        x = x + self.ff(self.norm2(x))\n",
    "        return x"
   ]
  },
  {
   "cell_type": "code",
   "execution_count": 15,
   "id": "b1889b97",
   "metadata": {},
   "outputs": [],
   "source": [
    "class Llama2Model(nn.Module):\n",
    "    def __init__(self, cfg):\n",
    "        super().__init__()\n",
    "        self.tok_emb = nn.Embedding(cfg[\"vocab_size\"], cfg[\"d_model\"])\n",
    "        self.transformer_blocks = nn.Sequential(\n",
    "            *[TransformerBlock(cfg) for _ in range(cfg[\"n_layers\"])]\n",
    "        )\n",
    "        self.final_norm = RMSNorm(cfg[\"d_model\"])\n",
    "        self.out_head = nn.Linear(cfg[\"d_model\"], cfg[\"vocab_size\"], bias=False)\n",
    "\n",
    "    def forward(self, in_idx):\n",
    "        x = self.tok_emb(in_idx)\n",
    "        x = self.transformer_blocks(x)\n",
    "        x = self.final_norm(x)\n",
    "        logits = self.out_head(x)\n",
    "        return logits\n"
   ]
  },
  {
   "cell_type": "code",
   "execution_count": 16,
   "id": "fd7ecfe4",
   "metadata": {},
   "outputs": [
    {
     "name": "stdout",
     "output_type": "stream",
     "text": [
      "190,460,160\n"
     ]
    }
   ],
   "source": [
    "GPT_CONFIG_124M = {\n",
    "    \"vocab_size\": 50257,     # Vocabulary size\n",
    "    \"context_length\": 1024,  # Context length\n",
    "    \"d_model\": 768,          # Embedding dimension\n",
    "    \"n_heads\": 12,           # Number of attention heads\n",
    "    \"n_layers\": 12,          # Number of layers\n",
    "    # \"drop_rate\": 0.1,        # Dropout rate\n",
    "    # \"qkv_bias\": False        # Query-Key-Value bias\n",
    "}\n",
    "\n",
    "model = Llama2Model(GPT_CONFIG_124M)\n",
    "total_params = sum(p.numel() for p in model.parameters())\n",
    "print(f\"{total_params:,}\")"
   ]
  },
  {
   "cell_type": "code",
   "execution_count": 17,
   "id": "3deb3b07",
   "metadata": {},
   "outputs": [
    {
     "name": "stdout",
     "output_type": "stream",
     "text": [
      "6,738,415,616\n"
     ]
    }
   ],
   "source": [
    "LLAMA2_CONFIG_7B = {\n",
    "    \"vocab_size\": 32000,     # Vocabulary size\n",
    "    \"context_length\": 4096,  # Context length\n",
    "    \"d_model\": 4096,         # Embedding dimension\n",
    "    \"n_heads\": 32,           # Number of attention heads\n",
    "    \"n_layers\": 32,          # Number of layers\n",
    "    \"hidden_dim\": 11008,     # NEW: Size of the intermediate dimension in FeedForward\n",
    "    \"dtype\": torch.bfloat16  # NEW: Lower-precision dtype to reduce memory usage\n",
    "}\n",
    "model = Llama2Model(LLAMA2_CONFIG_7B)\n",
    "total_params = sum(p.numel() for p in model.parameters())\n",
    "print(f\"{total_params:,}\")"
   ]
  },
  {
   "cell_type": "code",
   "execution_count": null,
   "id": "85a49749",
   "metadata": {},
   "outputs": [],
   "source": [
    "class GroupedQueryAttention(nn.Module):\n",
    "    def __init__(self, d_in, d_out, n_heads, n_kv_groups):\n",
    "        super().__init__()\n",
    "        assert d_out % n_heads == 0, \"d_out must be divisible by n_heads!\"\n",
    "        assert n_heads % n_kv_groups == 0, \"n_heads must be divisible by n_kv_groups!\"\n",
    "\n",
    "        self.n_kv_groups = n_kv_groups\n",
    "        self.group_size = n_heads // n_kv_groups\n",
    "        self.head_dim = d_out // n_heads\n",
    "\n",
    "        self.W_key = nn.Lienar(d_in, n_kv_groups * self.head_dim, bias=False)\n",
    "        self.W_value = nn.Linear(d_in, n_kv_groups * self.head_dim, bias=False)\n",
    "        self.W_query = nn.Linear(d_in, d_out, bias=False)\n",
    "        self.out_proj = nn.Linear(d_out, d_out, bias=False)\n",
    "\n",
    "    def forward(self, x, mask=None, cos=None, sin=None):\n",
    "        batch_size, seq_len, d_in = x.shape\n",
    "\n",
    "        queries = self.W_query(x) # (batch_size, seq_len, d_out)\n",
    "        keys    = self.W_key(x)   # (batch_size, seq_len, n_kv_groups * head_dim)\n",
    "        values  = self.W_value(x) # (batch_size, seq_len, n_kv_groups * head_dim)\n",
    "\n",
    "        queries = rearrange(queries, \"batch_size seq_len (n_heads head_dim) -> batch_size n_heads seq_len head_dim\", head_dim=self.head_dim)\n",
    "        keys    = rearrange(keys,    \"batch_size seq_len (n_kv_groups head_dim) -> batch_size n_kv_groups seq_len head_dim\", head_dim=self.head_dim)\n",
    "        values  = rearrange(values,  \"batch_size seq_len (n_kv_groups head_dim) -> batch_size n_kv_groups seq_len head_dim\", head_dim=self.head_dim)\n",
    "\n",
    "        if cos is None:\n",
    "            rope = RoPE()\n",
    "            keys = rope(keys)\n",
    "            queries = rope(queries)\n",
    "    \n",
    "        # example: [K1, K2] -> [K1, K1, K2, K2]\n",
    "        keys   = keys.repeat_interleave(self.group_size, dim=1)   # (batch_size, n_heads, seq_len, head_dim)\n",
    "        values = values.repeat_interleave(self.group_size, dim=1) # (batch_size, n_heads, seq_len, head_dim)\n",
    "\n",
    "        attn_scores = einsum(queries, keys, \".. s1 head_dim, ... s2 head_dim -> ... s1 s2\")\n",
    "        if mask is None:\n",
    "            mask = torch.triu(torch.ones(seq_len, seq_len), diagonal=1)\n",
    "\n",
    "        attn_scores.masked_fill_(mask, -torch.inf)\n",
    "        attn_weights = torch.softmax(attn_scores / keys.shape[-1]**0.5, dim=-1)\n",
    "        context_vec = einsum(attn_weights, values, \"... s1 s2, ... s2 head_dim -> ... s1 head_dim\")\n",
    "        context_vec = rearrange(context_vec, \"batch_size n_heads seq_len head_dim -> batch_size seq_len (n_heads head_dim)\")\n",
    "        context_vec = self.out_proj(context_vec)\n",
    "        return context_vec\n"
   ]
  },
  {
   "cell_type": "code",
   "execution_count": null,
   "id": "610dc38d",
   "metadata": {},
   "outputs": [],
   "source": []
  }
 ],
 "metadata": {
  "kernelspec": {
   "display_name": "llm_from_scratch (3.10.17)",
   "language": "python",
   "name": "python3"
  },
  "language_info": {
   "codemirror_mode": {
    "name": "ipython",
    "version": 3
   },
   "file_extension": ".py",
   "mimetype": "text/x-python",
   "name": "python",
   "nbconvert_exporter": "python",
   "pygments_lexer": "ipython3",
   "version": "3.10.17"
  }
 },
 "nbformat": 4,
 "nbformat_minor": 5
}
