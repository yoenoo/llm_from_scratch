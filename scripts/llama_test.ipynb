{
 "cells": [
  {
   "cell_type": "code",
   "execution_count": 1,
   "id": "d8079ab6",
   "metadata": {},
   "outputs": [],
   "source": [
    "import torch \n",
    "import torch.nn as nn \n",
    "\n",
    "from llama2 import Llama2Model"
   ]
  },
  {
   "cell_type": "code",
   "execution_count": 2,
   "id": "f545e34b",
   "metadata": {},
   "outputs": [],
   "source": [
    "LLAMA2_CONFIG_7B = {\n",
    "    \"vocab_size\": 32000,     # Vocabulary size\n",
    "    \"ctx_len\": 4096,         # Context length\n",
    "    \"d_model\": 4096,         # Embedding dimension\n",
    "    \"n_heads\": 32,           # Number of attention heads\n",
    "    \"n_layers\": 32,          # Number of layers\n",
    "    \"d_ff\": 11008,           # NEW: Size of the intermediate dimension in FeedForward\n",
    "    # \"dtype\": torch.bfloat16  # NEW: Lower-precision dtype to reduce memory usage\n",
    "}\n",
    "\n",
    "model = Llama2Model(LLAMA2_CONFIG_7B)"
   ]
  },
  {
   "cell_type": "code",
   "execution_count": 3,
   "id": "e96f8470",
   "metadata": {},
   "outputs": [
    {
     "data": {
      "text/plain": [
       "torch.Size([1, 5])"
      ]
     },
     "execution_count": 3,
     "metadata": {},
     "output_type": "execute_result"
    }
   ],
   "source": [
    "encoded = [0, 1, 2, 3, 4]\n",
    "encoded_tensor = torch.tensor(encoded).unsqueeze(0)\n",
    "encoded_tensor.shape"
   ]
  },
  {
   "cell_type": "code",
   "execution_count": null,
   "id": "d5b2c2b5",
   "metadata": {},
   "outputs": [
    {
     "data": {
      "text/plain": [
       "tensor([[[-0.6122,  1.0840,  1.6156,  ...,  0.3889,  0.6667,  0.1819],\n",
       "         [-0.0839,  0.9597,  0.4589,  ...,  0.3129,  0.5975, -0.2102],\n",
       "         [-0.1689,  0.6633,  0.6354,  ..., -0.1950,  0.6698,  0.4925],\n",
       "         [-0.5230,  1.0820,  0.4338,  ...,  0.4965,  0.4614,  0.5027],\n",
       "         [-0.7566,  1.6268,  0.1110,  ...,  0.7826,  0.7723,  0.7949]]],\n",
       "       grad_fn=<ViewBackward0>)"
      ]
     },
     "execution_count": 4,
     "metadata": {},
     "output_type": "execute_result"
    }
   ],
   "source": [
    "model(encoded_tensor)"
   ]
  },
  {
   "cell_type": "code",
   "execution_count": null,
   "id": "beda4dbd",
   "metadata": {},
   "outputs": [],
   "source": [
    "def generate_text_simple(model, idx, max_new_tokens, ctx_len):\n",
    "  for _ in range(max_new_tokens):\n",
    "    idx_cond = idx[:, -ctx_len:]\n",
    "    logits = model(idx_cond)\n",
    "    next_idx = logits[:,-1,:].argmax(dim=-1, keepdim=True)\n",
    "    idx = torch.cat((idx, next_idx), dim=1)\n",
    "  return idx"
   ]
  },
  {
   "cell_type": "code",
   "execution_count": 6,
   "id": "cd6d728b",
   "metadata": {},
   "outputs": [
    {
     "data": {
      "text/plain": [
       "tensor([[    0,     1,     2,     3,     4,  1115,  3714, 17598, 11235,  8427,\n",
       "         31261,  9118, 28991, 28706,   384]])"
      ]
     },
     "execution_count": 6,
     "metadata": {},
     "output_type": "execute_result"
    }
   ],
   "source": [
    "generate_text_simple(model, encoded_tensor, 10, 4096)"
   ]
  },
  {
   "cell_type": "code",
   "execution_count": null,
   "id": "348d3680",
   "metadata": {},
   "outputs": [],
   "source": []
  }
 ],
 "metadata": {
  "kernelspec": {
   "display_name": "Python 3",
   "language": "python",
   "name": "python3"
  },
  "language_info": {
   "codemirror_mode": {
    "name": "ipython",
    "version": 3
   },
   "file_extension": ".py",
   "mimetype": "text/x-python",
   "name": "python",
   "nbconvert_exporter": "python",
   "pygments_lexer": "ipython3",
   "version": "3.11.11"
  }
 },
 "nbformat": 4,
 "nbformat_minor": 5
}
